{
 "cells": [
  {
   "cell_type": "code",
   "execution_count": null,
   "metadata": {},
   "outputs": [],
   "source": [
    "import yfinance as yf\n",
    "import pandas as pd\n",
    "tickers = [\"GOOGL\", \"AMZN\", \"AAPL\", \"TSLA\", \"WMT\", \"MSFT\", \"META\", \"COST\", \"LMT\", \"NOC\", \"UNH\"]\n",
    "for ticker in tickers:\n",
    "    print(\"Processing ticker: \", ticker)\n",
    "    data = yf.download(ticker, start=\"2004-01-01\", end=\"2024-01-22\")\n",
    "    csv_data = data.to_csv(path_or_buf=f\"./stock_data/{ticker}.csv\")"
   ]
  }
 ],
 "metadata": {
  "language_info": {
   "name": "python"
  }
 },
 "nbformat": 4,
 "nbformat_minor": 2
}
